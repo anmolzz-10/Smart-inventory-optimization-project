{
 "cells": [
  {
   "cell_type": "code",
   "execution_count": 1,
   "id": "8fabc01c",
   "metadata": {},
   "outputs": [
    {
     "name": "stdout",
     "output_type": "stream",
     "text": [
      "suppliers_tab.py loaded\n",
      "Function imported correctly\n"
     ]
    }
   ],
   "source": [
    "from suppliers_tab import render_supplier_tab\n",
    "print(\"Function imported correctly\")\n"
   ]
  }
 ],
 "metadata": {
  "kernelspec": {
   "display_name": "base",
   "language": "python",
   "name": "python3"
  },
  "language_info": {
   "codemirror_mode": {
    "name": "ipython",
    "version": 3
   },
   "file_extension": ".py",
   "mimetype": "text/x-python",
   "name": "python",
   "nbconvert_exporter": "python",
   "pygments_lexer": "ipython3",
   "version": "3.11.7"
  }
 },
 "nbformat": 4,
 "nbformat_minor": 5
}
